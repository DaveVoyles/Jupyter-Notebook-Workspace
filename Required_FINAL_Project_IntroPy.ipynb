{
  "cells": [
    {
      "metadata": {
        "collapsed": true
      },
      "cell_type": "markdown",
      "source": "#  Final Project Required Coding Activity  \nIntroduction to Python Unit 1 \n\nThis activity is based on modules 1 - 4 and is similar to exercises in the Jupyter Notebooks **`Practice_MOD04_1-6_IntroPy.ipynb`** and **`Practice_MOD04_1-7_IntroPy.ipynb`** which you may have completed as practice.\n\n| Some Assignment Requirements |\n|:-------------------------------|\n|This program requires the use of<ul><li>**`while`** loop</li><li>**`if, elif, else`**</li><li>**`if,else`** (nested)</li><li>**casting** of type,  between strings and numbers</li></ul><br/>The program should **only** use code syntax covered in modules 1 - 4.<br/><br/>The program must result in print output using the numeric input, similar to that shown in the samples displaying \"Items\" and \"Total\".  |\n\n\n## Program: `adding_report()` function  \nThis program calls the adding_report() function which repeatedly takes positive integer input until the user quits and then sums the integers and prints a \"report\".    \nThe **adding_report()** function has 1 string parameter which indicates the type of report:  \n- \"A\" used as the argument to adding_report() results in printing of all of the input integers and the total  \n- \"T\" used as the argument results in printing only the total   \n\n#### Sample input and output:  \ncall adding_report() with \"A\" as argument (print all the integers entered and the total)  \n```\nInput an integer to add to the total or \"Q\" to quit\nEnter an integer or \"Q\"): 3\nEnter an integer or \"Q\"): 6\nEnter an integer or \"Q\"): 24\nEnter an integer or \"Q\"): 17\nEnter an integer or \"Q\"): 61\nEnter an integer or \"Q\"): nine\nnine is invalid input\nEnter an integer or \"Q\"): q\n\nItems\n3\n6\n24\n17\n61\n\nTotal\n 111\n```  \n\ncall with \"T\"(print only the total)  \n```\nInput an integer to add to the total or \"Q\" to quit\nEnter an integer or \"Q\": 5\nEnter an integer or \"Q\": 7\nEnter an integer or \"Q\": Quit\n\nTotal\n 12\n```  \n\n### The forever (while True) loop diagram  \nThis diagram represents only part of the assignment - it is the loop and nested if statements inside the function.  The code will enter at the while True loop after initializing variables.  \n\n![image of while True Loop with nested if statements described in bulleted text above](https://iajupyterprodblobs.blob.core.windows.net/imagecontainer/adding_report_loop_sketch.png)\n\n### Additional Details\n  \n- initialize `total` variable which will sum integer values entered  \n- initialize `items` variable which will build a string of the integer inputs separated with a *new line character*  \n- define the `adding_report` function with one parameter `report` that will be a string with default of \"T\"  \n- inside the function build a forever loop (infinite while loop) and inside the loop complete the following  \n  - use a variable to gather input (integer or \"Q\")  \n  - check if the input string is a digit (integer) and if it is...  \n    - add input iteger to total  \n    - if report type is \"A\" add the numeric character(s) to the item string seperated by a new line  \n  - if not a digit, check if the input string is \"Q\" or starts with a \"Q\", **if \"Q\"** then...  \n    - if the report type is \"A\" print out all the integer items entered and the sum total  \n    - if report type is \"T\" then print out the sum total only  \n    - `break` out of while loop to end the function after printing the report (\"A\" or \"T\") \n  - if not a digit and if not a \"Q\" then print a message that the \"input is invalid\"  \n\n- Call the `adding_report` function with \"A\" and then with \"T\" report parameters  \n- Run and test your code before submitting"
    },
    {
      "metadata": {
        "trusted": false
      },
      "cell_type": "code",
      "source": "# [ ] create, call and test the adding_report() function\n# then PASTE THIS CODE into edX\nprint('Input an integer to add to the total or \"Q\" to quit')\n\n#report_type = input('Choose Report Type (\"A\" or \"T\"): ')\n\ndef adding_report(report):\n    while True:\n        entry = input('Enter an integer or \"Q\"): ')\n        items = \"\"\n        total = 0\n    \n        if entry.lower().startswith(\"q\"):\n            print()\n            break\n        elif entry.isdigit():\n            items = items + \"\\n\" + entry\n            total = total + int(entry)\n        else:\n            print(\"Invalid entry\")\n            \n\nprint(adding_report())\n\n\n# if digit, add to a total to report A.  If not a digit, print invalid input and bring back to loop\n\n",
      "execution_count": 1,
      "outputs": [
        {
          "name": "stdout",
          "output_type": "stream",
          "text": "Input an integer to add to the total or \"Q\" to quit\n"
        },
        {
          "ename": "TypeError",
          "evalue": "adding_report() takes exactly 1 argument (0 given)",
          "output_type": "error",
          "traceback": [
            "\u001b[1;31m\u001b[0m",
            "\u001b[1;31mTypeError\u001b[0mTraceback (most recent call last)",
            "\u001b[1;32m<ipython-input-1-5d4e3595221b>\u001b[0m in \u001b[0;36m<module>\u001b[1;34m()\u001b[0m\n\u001b[0;32m     21\u001b[0m \u001b[1;33m\u001b[0m\u001b[0m\n\u001b[0;32m     22\u001b[0m \u001b[1;33m\u001b[0m\u001b[0m\n\u001b[1;32m---> 23\u001b[1;33m \u001b[1;32mprint\u001b[0m\u001b[1;33m(\u001b[0m\u001b[0madding_report\u001b[0m\u001b[1;33m(\u001b[0m\u001b[1;33m)\u001b[0m\u001b[1;33m)\u001b[0m\u001b[1;33m\u001b[0m\u001b[0m\n\u001b[0m\u001b[0;32m     24\u001b[0m \u001b[1;33m\u001b[0m\u001b[0m\n\u001b[0;32m     25\u001b[0m \u001b[1;33m\u001b[0m\u001b[0m\n",
            "\u001b[1;31mTypeError\u001b[0m: adding_report() takes exactly 1 argument (0 given)"
          ]
        }
      ]
    },
    {
      "metadata": {
        "trusted": true
      },
      "cell_type": "code",
      "source": "while True:  \n    def adding_report(report):\n        #  variable to gather input \n        user_input = input('Input an integer to add to the total or \"Q\" to quit')\n        total = 0\n\n        # Check if digit\n        if user_input.isdigit():\n            # Add user_input to total\n            user_input += total\n\n        # Check if string\n        elif user_input.isalpha():\n            # Do something\n        if user_input.lower().startswith(\"q\"):\n    ",
      "execution_count": null,
      "outputs": []
    },
    {
      "metadata": {
        "trusted": true
      },
      "cell_type": "code",
      "source": "items = \"\"\ntotal = 0\n        \ndef adding_report():\n    while True:\n        report_type = input('Choose Report Type (\"A\" or \"T\"): ')\n     \n        if user_input.isdigit():\n                # Add user_input to total\n            user_input += total\n\n        \n        if report_type.lower() == 'a':\n            entry = input('Enter an integer or \"Q\"): ')\n    \n            if entry.lower().startswith(\"q\"):\n                print()\n                break\n            elif entry.isdigit():\n                items = items + \"\\n\" + entry\n                \n                return items\n            else:\n                print(\"Invalid entry\")\n                \n        elif report_type.lower() == 't':\n            if entry.lower().startswith(\"q\"):\n                print()\n                break\n            elif entry.isdigit():\n                total = total + int(entry)\n                return total\n            else:\n                print(\"Invalid entry\")\n\nprint(adding_report())\n\nadding_report()\n",
      "execution_count": null,
      "outputs": []
    },
    {
      "metadata": {
        "trusted": true
      },
      "cell_type": "code",
      "source": "\nitems = \"\"\n# itialize items variable which will build a string\ntotal = 0\n\ndef adding_report():\n    report_type = input('Choose Report Type (\"A\" or \"T\"): ')\n    while True:\n            \n        entry = input('Enter an integer or \"Q\"): ')\n    \n        if entry.isdigit():\n                items = items + \"\\n\" + entry\n                           \n        # if not a digit, check if the input string is \"Q\" or starts with a \"Q\", if \"Q\" then...\n        elif entry.lower().startswith(\"q\"):\n            # if the report type is \"A\n            if report_type.lower() == \"a\":\n                # print out all the integer items entered.. \n                print(items)\n                # and the sum total\n                print(total) \n                break\n        else:\n                print(\"Invalid entry\")\n                \n       \n\nprint(adding_report())\n\n",
      "execution_count": null,
      "outputs": []
    },
    {
      "metadata": {
        "trusted": true
      },
      "cell_type": "code",
      "source": "#Check for report type\nwhile True:\n    report_type = input(\"Choose Report Type (\\\"A\\\" or \\\"T\\\"): \")\n    if report_type==\"A\":\n        break\n    elif report_type==\"T\":\n        break\n    else:\n        print(report_type, \"is invalid input\")\n\n\n# define the adding_report function with one parameter report that will be a string with default of \"T\"\ndef adding_report(report_type = \"T\"):\n    \n\n    \n    # itialize items variable which will build a string\n    items = \"\"\n    # itialize total variable which will sum integer values entered\n    total = 0\n\n    # Inside the function build a forever loop\n    while True:\n        \n        # use a variable to gather input (integer or \"Q\")\n        entry = input('Enter an integer or \"Q\"): ')\n        \n        # check if the input string is a digit (integer) and if it is...\n        if entry.isdigit(): # return True or False\n            # add input integer to total\n            # cast entry string to int & add input iteger to total\n            total += int(entry)\n            \n            # if report type is \"A\"\n            if report_type.lower() == 'a'\n                # add the numeric character(s) to the item string seperated by a new line\n                items = items + \"\\n\" + entry\n        \n        # if not a digit, check if the input string is \"Q\" or starts with a \"Q\", if \"Q\" then...\n        if entry.lower().startswith(\"q\"):\n            \n            \n            # if the report type is \"A\n            if report.lower() == \"a\":\n                # print out all the integer items entered.. \n                print(items)\n                # and the sum total\n                print(total) \n                break \n    \n\n                                \n        # f not a digit and if not a \"Q\" then print a message that the \"input is invalid\"\n        else:\n            print(\"Invalid entry\")                       \n\nprint(adding_report())\n",
      "execution_count": null,
      "outputs": [
        {
          "output_type": "stream",
          "name": "stdout",
          "text": "Choose Report Type (\"A\" or \"T\"): T\nEnter an integer or \"Q\"): 1\nInvalid entry\n"
        }
      ]
    },
    {
      "metadata": {},
      "cell_type": "markdown",
      "source": "### Need assignment tips and clarification? \nSee the video on the \"Final coding assignment > Final Required Code Description\" course page on [edX](https://courses.edx.org/courses/course-v1:Microsoft+DEV236x+4T2017/course)    \n\n# Important:  [How to submit the code in edX by pasting](https://courses.edx.org/courses/course-v1:Microsoft+DEV236x+1T2017/wiki/Microsoft.DEV236x.3T2018/paste-code-end-module-coding-assignments/)"
    },
    {
      "metadata": {},
      "cell_type": "markdown",
      "source": "[Terms of use](http://go.microsoft.com/fwlink/?LinkID=206977) &nbsp; [Privacy & cookies](https://go.microsoft.com/fwlink/?LinkId=521839) &nbsp; © 2017 Microsoft"
    }
  ],
  "metadata": {
    "kernelspec": {
      "name": "python36",
      "display_name": "Python 3.6",
      "language": "python"
    },
    "language_info": {
      "mimetype": "text/x-python",
      "nbconvert_exporter": "python",
      "name": "python",
      "pygments_lexer": "ipython3",
      "version": "3.6.6",
      "file_extension": ".py",
      "codemirror_mode": {
        "version": 3,
        "name": "ipython"
      }
    }
  },
  "nbformat": 4,
  "nbformat_minor": 1
}