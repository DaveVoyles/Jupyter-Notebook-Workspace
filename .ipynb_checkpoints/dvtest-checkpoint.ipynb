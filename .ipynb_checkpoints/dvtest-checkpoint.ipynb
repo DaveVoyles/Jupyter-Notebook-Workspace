{
 "cells": [
  {
   "cell_type": "code",
   "execution_count": 3,
   "metadata": {},
   "outputs": [
    {
     "name": "stdout",
     "output_type": "stream",
     "text": [
      "CNTK_101_LogisticRegression\\ -\\ My\\ Own.ipynb\r\n",
      "Deploy\\ Azure\\ ML\\ service.ipynb\r\n",
      "Ecommerce\\ Customers\r\n",
      "Ecommerce\\ Purchase\\ Exercise.ipynb\r\n",
      "Ecommerce\\ Purchases\r\n",
      "FTE_Grads.ipynb\r\n",
      "Getting\\ to\\ your\\ Data\\ in\\ Azure\\ Notebook.ipynb\r\n",
      "Linear\\ Regression\\ -\\ Project\\ Exercise\\ -\\ Ecommerce\\ 2.ipynb\r\n",
      "Linear\\ Regression\\ w\\ Python\\ -\\ Housing.ipynb\r\n",
      "MatPlotLibDemo.ipynb\r\n",
      "Matplotlib\\ exercises.ipynb\r\n",
      "Plotly\\ and\\ Cufflinks.ipynb\r\n",
      "Pytest.ipynb\r\n",
      "Seaborn\\ flights\\ dataset.ipynb\r\n",
      "Titanic\\ -\\ Learning\\ from\\ Disaster\\ -\\ Kaggle.ipynb\r\n",
      "Twitter\\ Sentiment\\ Analysis.ipynb\r\n",
      "USA_Housing.csv\r\n",
      "dvtest.ipynb\r\n",
      "oil_price.csv\r\n",
      "sample.txt\r\n",
      "seaborn.ipynb\r\n",
      "titanic_test.csv\r\n",
      "titanic_train.csv\r\n"
     ]
    }
   ],
   "source": [
    "!pip i"
   ]
  }
 ],
 "metadata": {
  "kernelspec": {
   "display_name": "Python 3.6",
   "language": "python",
   "name": "python36"
  },
  "language_info": {
   "codemirror_mode": {
    "name": "ipython",
    "version": 3
   },
   "file_extension": ".py",
   "mimetype": "text/x-python",
   "name": "python",
   "nbconvert_exporter": "python",
   "pygments_lexer": "ipython3",
   "version": "3.6.2"
  }
 },
 "nbformat": 4,
 "nbformat_minor": 2
}
