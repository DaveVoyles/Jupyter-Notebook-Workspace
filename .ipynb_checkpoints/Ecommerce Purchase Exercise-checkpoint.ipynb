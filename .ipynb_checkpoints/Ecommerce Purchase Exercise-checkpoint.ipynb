{
 "cells": [
  {
   "cell_type": "code",
   "execution_count": 1,
   "metadata": {
    "collapsed": true
   },
   "outputs": [],
   "source": [
    "import pandas as pd"
   ]
  },
  {
   "cell_type": "code",
   "execution_count": 3,
   "metadata": {},
   "outputs": [],
   "source": [
    "ecom = pd.read_csv('Ecommerce Purchases')"
   ]
  },
  {
   "cell_type": "code",
   "execution_count": 5,
   "metadata": {},
   "outputs": [
    {
     "data": {
      "text/html": [
       "<div>\n",
       "<table border=\"1\" class=\"dataframe\">\n",
       "  <thead>\n",
       "    <tr style=\"text-align: right;\">\n",
       "      <th></th>\n",
       "      <th>Address</th>\n",
       "      <th>Lot</th>\n",
       "      <th>AM or PM</th>\n",
       "      <th>Browser Info</th>\n",
       "      <th>Company</th>\n",
       "      <th>Credit Card</th>\n",
       "      <th>CC Exp Date</th>\n",
       "      <th>CC Security Code</th>\n",
       "      <th>CC Provider</th>\n",
       "      <th>Email</th>\n",
       "      <th>Job</th>\n",
       "      <th>IP Address</th>\n",
       "      <th>Language</th>\n",
       "      <th>Purchase Price</th>\n",
       "    </tr>\n",
       "  </thead>\n",
       "  <tbody>\n",
       "    <tr>\n",
       "      <th>0</th>\n",
       "      <td>16629 Pace Camp Apt. 448\\nAlexisborough, NE 77...</td>\n",
       "      <td>46 in</td>\n",
       "      <td>PM</td>\n",
       "      <td>Opera/9.56.(X11; Linux x86_64; sl-SI) Presto/2...</td>\n",
       "      <td>Martinez-Herman</td>\n",
       "      <td>6011929061123406</td>\n",
       "      <td>02/20</td>\n",
       "      <td>900</td>\n",
       "      <td>JCB 16 digit</td>\n",
       "      <td>pdunlap@yahoo.com</td>\n",
       "      <td>Scientist, product/process development</td>\n",
       "      <td>149.146.147.205</td>\n",
       "      <td>el</td>\n",
       "      <td>98.14</td>\n",
       "    </tr>\n",
       "    <tr>\n",
       "      <th>1</th>\n",
       "      <td>9374 Jasmine Spurs Suite 508\\nSouth John, TN 8...</td>\n",
       "      <td>28 rn</td>\n",
       "      <td>PM</td>\n",
       "      <td>Opera/8.93.(Windows 98; Win 9x 4.90; en-US) Pr...</td>\n",
       "      <td>Fletcher, Richards and Whitaker</td>\n",
       "      <td>3337758169645356</td>\n",
       "      <td>11/18</td>\n",
       "      <td>561</td>\n",
       "      <td>Mastercard</td>\n",
       "      <td>anthony41@reed.com</td>\n",
       "      <td>Drilling engineer</td>\n",
       "      <td>15.160.41.51</td>\n",
       "      <td>fr</td>\n",
       "      <td>70.73</td>\n",
       "    </tr>\n",
       "    <tr>\n",
       "      <th>2</th>\n",
       "      <td>Unit 0065 Box 5052\\nDPO AP 27450</td>\n",
       "      <td>94 vE</td>\n",
       "      <td>PM</td>\n",
       "      <td>Mozilla/5.0 (compatible; MSIE 9.0; Windows NT ...</td>\n",
       "      <td>Simpson, Williams and Pham</td>\n",
       "      <td>675957666125</td>\n",
       "      <td>08/19</td>\n",
       "      <td>699</td>\n",
       "      <td>JCB 16 digit</td>\n",
       "      <td>amymiller@morales-harrison.com</td>\n",
       "      <td>Customer service manager</td>\n",
       "      <td>132.207.160.22</td>\n",
       "      <td>de</td>\n",
       "      <td>0.95</td>\n",
       "    </tr>\n",
       "    <tr>\n",
       "      <th>3</th>\n",
       "      <td>7780 Julia Fords\\nNew Stacy, WA 45798</td>\n",
       "      <td>36 vm</td>\n",
       "      <td>PM</td>\n",
       "      <td>Mozilla/5.0 (Macintosh; Intel Mac OS X 10_8_0 ...</td>\n",
       "      <td>Williams, Marshall and Buchanan</td>\n",
       "      <td>6011578504430710</td>\n",
       "      <td>02/24</td>\n",
       "      <td>384</td>\n",
       "      <td>Discover</td>\n",
       "      <td>brent16@olson-robinson.info</td>\n",
       "      <td>Drilling engineer</td>\n",
       "      <td>30.250.74.19</td>\n",
       "      <td>es</td>\n",
       "      <td>78.04</td>\n",
       "    </tr>\n",
       "    <tr>\n",
       "      <th>4</th>\n",
       "      <td>23012 Munoz Drive Suite 337\\nNew Cynthia, TX 5...</td>\n",
       "      <td>20 IE</td>\n",
       "      <td>AM</td>\n",
       "      <td>Opera/9.58.(X11; Linux x86_64; it-IT) Presto/2...</td>\n",
       "      <td>Brown, Watson and Andrews</td>\n",
       "      <td>6011456623207998</td>\n",
       "      <td>10/25</td>\n",
       "      <td>678</td>\n",
       "      <td>Diners Club / Carte Blanche</td>\n",
       "      <td>christopherwright@gmail.com</td>\n",
       "      <td>Fine artist</td>\n",
       "      <td>24.140.33.94</td>\n",
       "      <td>es</td>\n",
       "      <td>77.82</td>\n",
       "    </tr>\n",
       "  </tbody>\n",
       "</table>\n",
       "</div>"
      ],
      "text/plain": [
       "                                             Address    Lot AM or PM  \\\n",
       "0  16629 Pace Camp Apt. 448\\nAlexisborough, NE 77...  46 in       PM   \n",
       "1  9374 Jasmine Spurs Suite 508\\nSouth John, TN 8...  28 rn       PM   \n",
       "2                   Unit 0065 Box 5052\\nDPO AP 27450  94 vE       PM   \n",
       "3              7780 Julia Fords\\nNew Stacy, WA 45798  36 vm       PM   \n",
       "4  23012 Munoz Drive Suite 337\\nNew Cynthia, TX 5...  20 IE       AM   \n",
       "\n",
       "                                        Browser Info  \\\n",
       "0  Opera/9.56.(X11; Linux x86_64; sl-SI) Presto/2...   \n",
       "1  Opera/8.93.(Windows 98; Win 9x 4.90; en-US) Pr...   \n",
       "2  Mozilla/5.0 (compatible; MSIE 9.0; Windows NT ...   \n",
       "3  Mozilla/5.0 (Macintosh; Intel Mac OS X 10_8_0 ...   \n",
       "4  Opera/9.58.(X11; Linux x86_64; it-IT) Presto/2...   \n",
       "\n",
       "                           Company       Credit Card CC Exp Date  \\\n",
       "0                  Martinez-Herman  6011929061123406       02/20   \n",
       "1  Fletcher, Richards and Whitaker  3337758169645356       11/18   \n",
       "2       Simpson, Williams and Pham      675957666125       08/19   \n",
       "3  Williams, Marshall and Buchanan  6011578504430710       02/24   \n",
       "4        Brown, Watson and Andrews  6011456623207998       10/25   \n",
       "\n",
       "   CC Security Code                  CC Provider  \\\n",
       "0               900                 JCB 16 digit   \n",
       "1               561                   Mastercard   \n",
       "2               699                 JCB 16 digit   \n",
       "3               384                     Discover   \n",
       "4               678  Diners Club / Carte Blanche   \n",
       "\n",
       "                            Email                                     Job  \\\n",
       "0               pdunlap@yahoo.com  Scientist, product/process development   \n",
       "1              anthony41@reed.com                       Drilling engineer   \n",
       "2  amymiller@morales-harrison.com                Customer service manager   \n",
       "3     brent16@olson-robinson.info                       Drilling engineer   \n",
       "4     christopherwright@gmail.com                             Fine artist   \n",
       "\n",
       "        IP Address Language  Purchase Price  \n",
       "0  149.146.147.205       el           98.14  \n",
       "1     15.160.41.51       fr           70.73  \n",
       "2   132.207.160.22       de            0.95  \n",
       "3     30.250.74.19       es           78.04  \n",
       "4     24.140.33.94       es           77.82  "
      ]
     },
     "execution_count": 5,
     "metadata": {},
     "output_type": "execute_result"
    }
   ],
   "source": [
    "ecom.head()"
   ]
  },
  {
   "cell_type": "code",
   "execution_count": 8,
   "metadata": {},
   "outputs": [
    {
     "data": {
      "text/plain": [
       "Index(['Address', 'Lot', 'AM or PM', 'Browser Info', 'Company', 'Credit Card',\n",
       "       'CC Exp Date', 'CC Security Code', 'CC Provider', 'Email', 'Job',\n",
       "       'IP Address', 'Language', 'Purchase Price'],\n",
       "      dtype='object')"
      ]
     },
     "execution_count": 8,
     "metadata": {},
     "output_type": "execute_result"
    }
   ],
   "source": [
    "ecom.columns"
   ]
  },
  {
   "cell_type": "code",
   "execution_count": 11,
   "metadata": {},
   "outputs": [
    {
     "data": {
      "text/plain": [
       "14"
      ]
     },
     "execution_count": 11,
     "metadata": {},
     "output_type": "execute_result"
    }
   ],
   "source": [
    "len(ecom.columns)"
   ]
  },
  {
   "cell_type": "code",
   "execution_count": 12,
   "metadata": {},
   "outputs": [
    {
     "data": {
      "text/plain": [
       "10000"
      ]
     },
     "execution_count": 12,
     "metadata": {},
     "output_type": "execute_result"
    }
   ],
   "source": [
    "# rows\n",
    "len(ecom.index)"
   ]
  },
  {
   "cell_type": "code",
   "execution_count": 13,
   "metadata": {},
   "outputs": [
    {
     "data": {
      "text/plain": [
       "<bound method DataFrame.info of                                                 Address    Lot AM or PM  \\\n",
       "0     16629 Pace Camp Apt. 448\\nAlexisborough, NE 77...  46 in       PM   \n",
       "1     9374 Jasmine Spurs Suite 508\\nSouth John, TN 8...  28 rn       PM   \n",
       "2                      Unit 0065 Box 5052\\nDPO AP 27450  94 vE       PM   \n",
       "3                 7780 Julia Fords\\nNew Stacy, WA 45798  36 vm       PM   \n",
       "4     23012 Munoz Drive Suite 337\\nNew Cynthia, TX 5...  20 IE       AM   \n",
       "5     7502 Powell Mission Apt. 768\\nTravisland, VA 3...  21 XT       PM   \n",
       "6        93971 Conway Causeway\\nAndersonburgh, AZ 75107  96 Xt       AM   \n",
       "7     260 Rachel Plains Suite 366\\nCastroberg, WV 24...  96 pG       PM   \n",
       "8               2129 Dylan Burg\\nNew Michelle, ME 28650  45 JN       PM   \n",
       "9       3795 Dawson Extensions\\nLake Tinafort, ID 88739  15 Ug       AM   \n",
       "10        650 Elizabeth Park\\nLake Maria, LA 13526-2530  65 Yn       PM   \n",
       "11               349 Laurie Parks\\nThomasview, ID 08970  30 kK       PM   \n",
       "12      733 Heather Rest Apt. 670\\nBoltonport, UT 78662  69 DO       AM   \n",
       "13    118 Melton Via Suite 681\\nAlexanderbury, FL 32104  36 bu       PM   \n",
       "14    8774 Jason Keys Suite 427\\nEast Scottborough, ...  70 zH       AM   \n",
       "15       31730 Chelsea Crest\\nBlakemouth, CT 90395-0620  41 Cj       PM   \n",
       "16    5283 Thomas Trafficway Suite 343\\nEast Brittne...  31 ho       AM   \n",
       "17    950 Jacqueline Village Apt. 592\\nPort Kimberly...  23 Rh       PM   \n",
       "18    461 Christopher Square\\nWest Michaelchester, C...  17 SB       PM   \n",
       "19                  125 Hall Summit\\nBoothton, IL 41721  99 CU       PM   \n",
       "20        7383 George Village\\nLake Jamesview, CO 79828  23 dk       PM   \n",
       "21    282 Miller Valleys Suite 404\\nWilkinsonbury, M...  24 RZ       AM   \n",
       "22     625 Laura Summit Suite 112\\nShortmouth, AK 97156  45 oa       PM   \n",
       "23    25292 Shepherd Trail Apt. 798\\nRussellmouth, S...  31 pS       PM   \n",
       "24                Unit 3046 Box 3197\\nDPO AE 61496-4172  62 Ac       AM   \n",
       "25    80797 Ryan Trail Apt. 752\\nAaronhaven, MI 0622...  66 SO       PM   \n",
       "26          5334 Sheppard Fort\\nNorth Kirsten, ND 71170  40 ND       AM   \n",
       "27           5015 Smith Harbors\\nSouth Ashley, OK 81283  34 JQ       PM   \n",
       "28    50533 Cooper Cliffs\\nNorth Jonathanberg, MD 20482  17 kP       PM   \n",
       "29    30755 Joshua Plaza Apt. 567\\nWest Susanton, FM...  93 OP       PM   \n",
       "...                                                 ...    ...      ...   \n",
       "9970              0060 Keith Stream\\nWestport, CO 47097  11 nt       PM   \n",
       "9971  5806 Martinez Point\\nLake Abigailstad, MD 6183...  07 wl       AM   \n",
       "9972  89504 Flynn Overpass Suite 822\\nNew Elijah, WV...  23 eL       AM   \n",
       "9973     92126 Daniel Streets\\nNorth Patricia, IA 10477  04 QN       PM   \n",
       "9974     500 Powell Rapid Apt. 114\\nClarkfort, FL 70488  48 is       AM   \n",
       "9975  5208 Hanson Trail Suite 527\\nSouth Jonathanshi...  67 OX       PM   \n",
       "9976  5419 Cruz Island Apt. 033\\nLake Todd, AK 24863...  93 FM       PM   \n",
       "9977  02182 Keith Expressway\\nEast Shannon, CT 20578...  34 RL       AM   \n",
       "9978   991 Watts Court\\nSouth Danielstad, IA 39032-8865  66 eb       AM   \n",
       "9979  00490 Joseph Haven Apt. 149\\nWest Keithfurt, S...  69 XK       PM   \n",
       "9980           6061 Dave Lights\\nPhillipsview, UT 40500  25 Mv       AM   \n",
       "9981  087 Larson Roads Apt. 587\\nRicestad, WI 98077-...  95 Kw       AM   \n",
       "9982  18044 Mcintosh Row Apt. 122\\nLake Jennifer, NC...  77 uq       PM   \n",
       "9983              PSC 5678, Box 4503\\nAPO AP 94998-5546  79 cd       AM   \n",
       "9984       7560 Boyle Keys\\nAntoniomouth, DC 00522-0367  72 Qb       AM   \n",
       "9985              7456 Stevens Rest\\nEricside, FL 16389  27 Yv       PM   \n",
       "9986  2719 Troy Drive Suite 062\\nLisachester, PW 414...  80 Wl       PM   \n",
       "9987     2754 Klein Mission\\nJohnsonview, PA 64925-9624  65 Fg       PM   \n",
       "9988      0154 Green Forest\\nNew Timothy, IL 33670-4620  11 MC       AM   \n",
       "9989         5674 Cruz Trace\\nNew Shelby, KY 51047-5469  12 Kf       AM   \n",
       "9990  75731 Molly Springs\\nWest Danielle, VT 96934-5102  93 ty       PM   \n",
       "9991              PSC 8165, Box 8498\\nAPO AP 60327-0346  50 dA       AM   \n",
       "9992  885 Allen Mountains Apt. 230\\nWallhaven, LA 16995  40 vH       PM   \n",
       "9993  7555 Larson Locks Suite 229\\nEllisburgh, MA 34...  72 jg       PM   \n",
       "9994       6276 Rojas Hollow\\nLake Louis, WY 56410-7837  93 Ex       PM   \n",
       "9995      966 Castaneda Locks\\nWest Juliafurt, CO 96415  92 XI       PM   \n",
       "9996  832 Curtis Dam Suite 785\\nNorth Edwardburgh, T...  41 JY       AM   \n",
       "9997              Unit 4434 Box 6343\\nDPO AE 28026-0283  74 Zh       AM   \n",
       "9998               0096 English Rest\\nRoystad, IA 12457  74 cL       PM   \n",
       "9999     40674 Barrett Stravenue\\nGrimesville, WI 79682  64 Hr       AM   \n",
       "\n",
       "                                           Browser Info  \\\n",
       "0     Opera/9.56.(X11; Linux x86_64; sl-SI) Presto/2...   \n",
       "1     Opera/8.93.(Windows 98; Win 9x 4.90; en-US) Pr...   \n",
       "2     Mozilla/5.0 (compatible; MSIE 9.0; Windows NT ...   \n",
       "3     Mozilla/5.0 (Macintosh; Intel Mac OS X 10_8_0 ...   \n",
       "4     Opera/9.58.(X11; Linux x86_64; it-IT) Presto/2...   \n",
       "5     Mozilla/5.0 (Macintosh; U; PPC Mac OS X 10_8_5...   \n",
       "6     Mozilla/5.0 (compatible; MSIE 7.0; Windows NT ...   \n",
       "7     Mozilla/5.0 (X11; Linux i686) AppleWebKit/5350...   \n",
       "8     Mozilla/5.0 (Macintosh; U; Intel Mac OS X 10_7...   \n",
       "9     Mozilla/5.0 (X11; Linux i686; rv:1.9.7.20) Gec...   \n",
       "10    Mozilla/5.0 (iPod; U; CPU iPhone OS 4_1 like M...   \n",
       "11    Mozilla/5.0 (X11; Linux i686; rv:1.9.6.20) Gec...   \n",
       "12    Mozilla/5.0 (Macintosh; Intel Mac OS X 10_5_3 ...   \n",
       "13    Mozilla/5.0 (Macintosh; U; Intel Mac OS X 10_8...   \n",
       "14    Mozilla/5.0 (Windows 98; it-IT; rv:1.9.2.20) G...   \n",
       "15    Opera/8.95.(Windows NT 5.0; en-US) Presto/2.9....   \n",
       "16    Opera/9.73.(Windows NT 6.2; sl-SI) Presto/2.9....   \n",
       "17    Mozilla/5.0 (compatible; MSIE 9.0; Windows NT ...   \n",
       "18    Mozilla/5.0 (X11; Linux i686; rv:1.9.6.20) Gec...   \n",
       "19    Mozilla/5.0 (compatible; MSIE 7.0; Windows NT ...   \n",
       "20    Mozilla/5.0 (Windows; U; Windows NT 4.0) Apple...   \n",
       "21    Mozilla/5.0 (compatible; MSIE 6.0; Windows NT ...   \n",
       "22    Mozilla/5.0 (Windows 95) AppleWebKit/5342 (KHT...   \n",
       "23    Mozilla/5.0 (compatible; MSIE 5.0; Windows 98;...   \n",
       "24    Mozilla/5.0 (compatible; MSIE 6.0; Windows CE;...   \n",
       "25    Mozilla/5.0 (Macintosh; U; PPC Mac OS X 10_7_1...   \n",
       "26    Mozilla/5.0 (Macintosh; Intel Mac OS X 10_6_3)...   \n",
       "27    Opera/9.75.(Windows NT 6.0; en-US) Presto/2.9....   \n",
       "28    Mozilla/5.0 (Windows; U; Windows NT 6.1) Apple...   \n",
       "29    Mozilla/5.0 (Macintosh; U; PPC Mac OS X 10_6_7...   \n",
       "...                                                 ...   \n",
       "9970  Mozilla/5.0 (Macintosh; U; Intel Mac OS X 10_8...   \n",
       "9971  Mozilla/5.0 (X11; Linux i686) AppleWebKit/5360...   \n",
       "9972  Mozilla/5.0 (Windows NT 5.1; en-US; rv:1.9.2.2...   \n",
       "9973  Mozilla/5.0 (Windows NT 5.2) AppleWebKit/5362 ...   \n",
       "9974  Mozilla/5.0 (Windows 95) AppleWebKit/5312 (KHT...   \n",
       "9975  Mozilla/5.0 (Macintosh; U; PPC Mac OS X 10_7_8...   \n",
       "9976  Opera/9.38.(Windows NT 5.01; it-IT) Presto/2.9...   \n",
       "9977  Mozilla/5.0 (compatible; MSIE 9.0; Windows NT ...   \n",
       "9978  Mozilla/5.0 (Macintosh; PPC Mac OS X 10_7_3; r...   \n",
       "9979  Mozilla/5.0 (Windows NT 6.1) AppleWebKit/5311 ...   \n",
       "9980  Opera/8.58.(Windows NT 5.0; it-IT) Presto/2.9....   \n",
       "9981  Opera/9.63.(Windows NT 5.01; en-US) Presto/2.9...   \n",
       "9982  Mozilla/5.0 (Macintosh; U; PPC Mac OS X 10_6_0...   \n",
       "9983  Mozilla/5.0 (compatible; MSIE 8.0; Windows NT ...   \n",
       "9984  Mozilla/5.0 (Windows; U; Windows 98; Win 9x 4....   \n",
       "9985  Mozilla/5.0 (Macintosh; U; Intel Mac OS X 10_7...   \n",
       "9986  Mozilla/5.0 (Windows NT 5.2; sl-SI; rv:1.9.1.2...   \n",
       "9987  Opera/9.26.(Windows CE; sl-SI) Presto/2.9.188 ...   \n",
       "9988  Mozilla/5.0 (compatible; MSIE 7.0; Windows 98;...   \n",
       "9989  Mozilla/5.0 (compatible; MSIE 9.0; Windows NT ...   \n",
       "9990  Mozilla/5.0 (Macintosh; Intel Mac OS X 10_7_4;...   \n",
       "9991  Mozilla/5.0 (compatible; MSIE 8.0; Windows NT ...   \n",
       "9992  Mozilla/5.0 (Macintosh; PPC Mac OS X 10_6_5) A...   \n",
       "9993  Mozilla/5.0 (Macintosh; U; Intel Mac OS X 10_8...   \n",
       "9994  Opera/9.68.(X11; Linux x86_64; sl-SI) Presto/2...   \n",
       "9995  Mozilla/5.0 (Windows NT 5.1) AppleWebKit/5352 ...   \n",
       "9996  Mozilla/5.0 (compatible; MSIE 9.0; Windows NT ...   \n",
       "9997  Mozilla/5.0 (Macintosh; U; Intel Mac OS X 10_7...   \n",
       "9998  Mozilla/5.0 (Macintosh; Intel Mac OS X 10_8_8;...   \n",
       "9999  Mozilla/5.0 (X11; Linux i686; rv:1.9.5.20) Gec...   \n",
       "\n",
       "                               Company       Credit Card CC Exp Date  \\\n",
       "0                      Martinez-Herman  6011929061123406       02/20   \n",
       "1      Fletcher, Richards and Whitaker  3337758169645356       11/18   \n",
       "2           Simpson, Williams and Pham      675957666125       08/19   \n",
       "3      Williams, Marshall and Buchanan  6011578504430710       02/24   \n",
       "4            Brown, Watson and Andrews  6011456623207998       10/25   \n",
       "5                       Silva-Anderson    30246185196287       07/25   \n",
       "6                      Gibson and Sons  6011398782655569       07/24   \n",
       "7                     Marshall-Collins      561252141909       06/25   \n",
       "8                    Galloway and Sons   180041795790001       04/24   \n",
       "9         Rivera, Buchanan and Ramirez     4396283918371       01/17   \n",
       "10    Strickland, Michael and Gonzales   180036417827355       02/17   \n",
       "11                          Kim-Oliver   869975209012056       06/26   \n",
       "12                        Moore-Martin  5115990487067905       05/26   \n",
       "13                          Keller PLC  4603635169938574       01/25   \n",
       "14            Leach, Howe and Ferguson   869967499275071       09/22   \n",
       "15                       Garcia-Steele   180069437020404       04/25   \n",
       "16     Stanton, Villanueva and Swanson      676121145525       06/22   \n",
       "17       Fernandez, Melton and Gilbert  3337515540944084       01/26   \n",
       "18              Beard, Abbott and Pena  6011350184276270       12/22   \n",
       "19                     Turner-Mckinney      676343504830       02/20   \n",
       "20          Santana, Montes and Pierce  6011833038852776       03/22   \n",
       "21                        Guzman-Reese  5491255326230898       03/25   \n",
       "22                         Burnett Ltd  3158663456056588       07/22   \n",
       "23                            Cruz Inc      502010078983       02/23   \n",
       "24                          Morris PLC  4749728852401144       07/18   \n",
       "25                     Saunders-Mendez   869938033091779       05/19   \n",
       "26         Stephens, Johnson and Combs       60488441233       03/19   \n",
       "27            Levine, Shaw and Jenkins   869948145612941       12/16   \n",
       "28                            Reed Inc   180026477662982       11/24   \n",
       "29                         Goodwin Ltd  4170734785397597       07/22   \n",
       "...                                ...               ...         ...   \n",
       "9970          Carpenter, Good and Hart  6011485664704662       07/19   \n",
       "9971                     Brewer-Howard  5359660631103048       01/21   \n",
       "9972              Davis, Wise and Diaz   370589883240776       04/22   \n",
       "9973                        Morrow Inc      501850922854       02/19   \n",
       "9974                     Griffin-Lopez      630407297302       04/26   \n",
       "9975                      Bowen-Nelson  5361597780221625       01/19   \n",
       "9976                  Henderson-Kelley  4458996242274056       08/21   \n",
       "9977       Deleon, Jacobson and Benton  4186094003664688       06/21   \n",
       "9978                       Perez Group  3088185172584201       11/21   \n",
       "9979                   Randall-Ramirez   346734838013255       10/23   \n",
       "9980                       Cortez-Frye  6011944199756993       12/24   \n",
       "9981          Ortiz, Schultz and Adams     4690863684605       01/19   \n",
       "9982                          Chen LLC   210040992311995       09/18   \n",
       "9983                        Hall-Cantu   343856674589081       04/23   \n",
       "9984                    Johnson-Brandt  3088208142188125       03/21   \n",
       "9985                       Murphy-Cook  6011264939622870       08/21   \n",
       "9986                   Campbell-Hurley  4220882411745414       08/18   \n",
       "9987                        Curtis LLC   180027305702263       12/24   \n",
       "9988                   Williams-Walker  4207292109379681       10/16   \n",
       "9989      Vargas, Nichols and Martinez  5278049688438382       12/23   \n",
       "9990        Pace, Vazquez and Richards   869968197049750       04/24   \n",
       "9991                        Snyder Inc  4221582137197481       02/24   \n",
       "9992                         Wells Ltd  4664825258997302       10/20   \n",
       "9993                    Colon and Sons    30025560104631       10/25   \n",
       "9994                      Ritter-Smith  3112186784121077       01/25   \n",
       "9995                     Randall-Sloan   342945015358701       03/22   \n",
       "9996          Hale, Collins and Wilson   210033169205009       07/25   \n",
       "9997                      Anderson Ltd  6011539787356311       05/21   \n",
       "9998                          Cook Inc   180003348082930       11/17   \n",
       "9999                        Greene Inc  4139972901927273       02/19   \n",
       "\n",
       "      CC Security Code                  CC Provider  \\\n",
       "0                  900                 JCB 16 digit   \n",
       "1                  561                   Mastercard   \n",
       "2                  699                 JCB 16 digit   \n",
       "3                  384                     Discover   \n",
       "4                  678  Diners Club / Carte Blanche   \n",
       "5                 7169                     Discover   \n",
       "6                  714                VISA 16 digit   \n",
       "7                  256                VISA 13 digit   \n",
       "8                  899                 JCB 16 digit   \n",
       "9                  931             American Express   \n",
       "10                 754                      Voyager   \n",
       "11                9717                 JCB 15 digit   \n",
       "12                 119                VISA 16 digit   \n",
       "13                 557                VISA 16 digit   \n",
       "14                 427                VISA 16 digit   \n",
       "15                 404  Diners Club / Carte Blanche   \n",
       "16                 285  Diners Club / Carte Blanche   \n",
       "17                 771             American Express   \n",
       "18                 767                   Mastercard   \n",
       "19                 440                VISA 16 digit   \n",
       "20                 740                      Maestro   \n",
       "21                 506                 JCB 16 digit   \n",
       "22                 508                     Discover   \n",
       "23                  60                VISA 13 digit   \n",
       "24                  11                 JCB 15 digit   \n",
       "25                 901                      Voyager   \n",
       "26                  70                VISA 13 digit   \n",
       "27                 310  Diners Club / Carte Blanche   \n",
       "28                  16                 JCB 15 digit   \n",
       "29                 319                      Maestro   \n",
       "...                ...                          ...   \n",
       "9970               543                     Discover   \n",
       "9971               586                      Voyager   \n",
       "9972               748                VISA 13 digit   \n",
       "9973              2708             American Express   \n",
       "9974               627                VISA 16 digit   \n",
       "9975               225                 JCB 16 digit   \n",
       "9976               291                VISA 16 digit   \n",
       "9977               397                 JCB 16 digit   \n",
       "9978               589                     Discover   \n",
       "9979               224                 JCB 16 digit   \n",
       "9980               755                 JCB 15 digit   \n",
       "9981               695                   Mastercard   \n",
       "9982                79                 JCB 16 digit   \n",
       "9983               206                 JCB 16 digit   \n",
       "9984               572                      Maestro   \n",
       "9985               847                VISA 16 digit   \n",
       "9986               460                 JCB 16 digit   \n",
       "9987               865                   Mastercard   \n",
       "9988               571  Diners Club / Carte Blanche   \n",
       "9989               996                VISA 16 digit   \n",
       "9990               877                 JCB 15 digit   \n",
       "9991               969                      Voyager   \n",
       "9992               431                     Discover   \n",
       "9993               629                      Maestro   \n",
       "9994              1823                      Maestro   \n",
       "9995               838                 JCB 15 digit   \n",
       "9996               207                 JCB 16 digit   \n",
       "9997                 1                VISA 16 digit   \n",
       "9998               987             American Express   \n",
       "9999               302                 JCB 15 digit   \n",
       "\n",
       "                                  Email  \\\n",
       "0                     pdunlap@yahoo.com   \n",
       "1                    anthony41@reed.com   \n",
       "2        amymiller@morales-harrison.com   \n",
       "3           brent16@olson-robinson.info   \n",
       "4           christopherwright@gmail.com   \n",
       "5                     ynguyen@gmail.com   \n",
       "6                    olivia04@yahoo.com   \n",
       "7                  phillip48@parks.info   \n",
       "8                  kdavis@rasmussen.com   \n",
       "9              qcoleman@hunt-huerta.com   \n",
       "10                 ustewart@hotmail.com   \n",
       "11             johnnymiller@coleman.com   \n",
       "12                    tholt@hotmail.com   \n",
       "13                  caitlin57@yahoo.com   \n",
       "14                     aburns@yahoo.com   \n",
       "15                   amanda39@yahoo.com   \n",
       "16          griffincatherine@wilson.com   \n",
       "17               stacymitchell@hall.com   \n",
       "18                   hannah63@yahoo.com   \n",
       "19                 ruiznicole@gmail.com   \n",
       "20               zstephenson@smith.info   \n",
       "21                   rsmith@hotmail.com   \n",
       "22            chambersmichael@gmail.com   \n",
       "23          ltaylor@gardner-meadows.com   \n",
       "24                    james07@yahoo.com   \n",
       "25                 madison41@mooney.com   \n",
       "26                     mlogan@gmail.com   \n",
       "27                michael35@hotmail.com   \n",
       "28                khandeborah@yahoo.com   \n",
       "29                 stonekaren@yahoo.com   \n",
       "...                                 ...   \n",
       "9970            rangelbrian@hotmail.com   \n",
       "9971          leslierichards@warner.org   \n",
       "9972              kellycole@hotmail.com   \n",
       "9973                   rlewis@yahoo.com   \n",
       "9974                  paula72@yahoo.com   \n",
       "9975               taylordiaz@roman.net   \n",
       "9976                   pbrown@gmail.com   \n",
       "9977             daltoncarter@yahoo.com   \n",
       "9978                 ywhite@hotmail.com   \n",
       "9979                 qjohnson@yahoo.com   \n",
       "9980           mark74@kirby-stewart.org   \n",
       "9981         laurenbennett@richards.com   \n",
       "9982                heather24@gmail.com   \n",
       "9983  jacksonmanuel@rodriguez-welch.com   \n",
       "9984              clee@vasquez-luna.com   \n",
       "9985               cranejames@white.com   \n",
       "9986           belindaleon@schwartz.com   \n",
       "9987           denisehamilton@novak.biz   \n",
       "9988             hudsonmichael@pace.com   \n",
       "9989         walterswilliam@hotmail.com   \n",
       "9990        andersonmichael@sherman.biz   \n",
       "9991                 kking@wise-liu.com   \n",
       "9992                  bberry@wright.net   \n",
       "9993          chelseawilliams@lopez.biz   \n",
       "9994                 iroberts@gmail.com   \n",
       "9995             iscott@wade-garner.com   \n",
       "9996                 mary85@hotmail.com   \n",
       "9997                  tyler16@gmail.com   \n",
       "9998            elizabethmoore@reid.net   \n",
       "9999              rachelford@vaughn.com   \n",
       "\n",
       "                                         Job       IP Address Language  \\\n",
       "0     Scientist, product/process development  149.146.147.205       el   \n",
       "1                          Drilling engineer     15.160.41.51       fr   \n",
       "2                   Customer service manager   132.207.160.22       de   \n",
       "3                          Drilling engineer     30.250.74.19       es   \n",
       "4                                Fine artist     24.140.33.94       es   \n",
       "5                          Fish farm manager    55.96.152.147       ru   \n",
       "6                                     Dancer   127.252.144.18       de   \n",
       "7                            Event organiser   224.247.97.150       pt   \n",
       "8                          Financial manager  146.234.201.229       ru   \n",
       "9                         Forensic scientist    236.198.199.8       zh   \n",
       "10             Development worker, community       26.59.93.1       el   \n",
       "11                   Diagnostic radiographer   128.222.40.234       en   \n",
       "12                        Surveyor, quantity   236.71.234.240       en   \n",
       "13      Accountant, chartered public finance     84.212.92.11       it   \n",
       "14                             Acupuncturist      50.25.148.1       de   \n",
       "15                            Retail manager    53.176.235.33       el   \n",
       "16                            Therapist, art     8.145.170.52       de   \n",
       "17                       Designer, jewellery    223.25.125.61       el   \n",
       "18                              Photographer   73.250.176.201       el   \n",
       "19                Designer, interior/spatial   25.105.209.214       fr   \n",
       "20                  Public relations officer    250.71.54.180       de   \n",
       "21                   Presenter, broadcasting    125.58.66.253       it   \n",
       "22                            Retail manager    65.106.61.141       en   \n",
       "23                        Field seismologist   25.193.145.116       ru   \n",
       "24                                  Musician   21.113.231.220       es   \n",
       "25          Training and development officer    67.26.186.226       de   \n",
       "26                         Barrister's clerk   61.197.134.185       en   \n",
       "27                           Careers adviser   177.220.131.93       es   \n",
       "28       Scientist, research (life sciences)  142.131.235.225       es   \n",
       "29                         Recycling officer  218.189.145.248       it   \n",
       "...                                      ...              ...      ...   \n",
       "9970                     Electrical engineer     242.8.85.205       en   \n",
       "9971                          Therapist, art     81.2.189.127       de   \n",
       "9972                  Sales professional, IT    102.53.225.61       zh   \n",
       "9973               Editor, magazine features   201.88.164.123       en   \n",
       "9974                        Sports therapist  166.220.170.176       el   \n",
       "9975               Education officer, museum    114.197.6.210       zh   \n",
       "9976                      Furniture designer    109.108.177.2       es   \n",
       "9977                     Biomedical engineer    146.238.118.2       fr   \n",
       "9978            Designer, exhibition/display   232.219.30.162       de   \n",
       "9979                                  Lawyer     17.76.83.105       en   \n",
       "9980                        Textile designer   110.103.77.195       fr   \n",
       "9981         Environmental education officer    106.21.237.73       pt   \n",
       "9982                      Restaurant manager     93.254.124.2       it   \n",
       "9983     Scientist, research (life sciences)    245.22.66.225       de   \n",
       "9984                   Editor, commissioning   140.157.37.218       el   \n",
       "9985              Designer, interior/spatial    188.73.131.92       de   \n",
       "9986                              Cabin crew   110.103.102.55       it   \n",
       "9987                  Primary school teacher   164.39.190.217       es   \n",
       "9988                      Charity fundraiser   136.169.160.82       de   \n",
       "9989            Community development worker   39.162.164.169       pt   \n",
       "9990                     Early years teacher     54.170.3.185       ru   \n",
       "9991                   IT sales professional    254.25.31.156       el   \n",
       "9992                            Set designer    174.173.51.32       de   \n",
       "9993            Designer, exhibition/display    177.46.82.128       el   \n",
       "9994               Education officer, museum    242.44.112.18       zh   \n",
       "9995                              Printmaker    29.73.197.114       it   \n",
       "9996                         Energy engineer   121.133.168.51       pt   \n",
       "9997                      Veterinary surgeon    156.210.0.254       el   \n",
       "9998                Local government officer     55.78.26.143       es   \n",
       "9999                  Embryologist, clinical  176.119.198.199       el   \n",
       "\n",
       "      Purchase Price  \n",
       "0              98.14  \n",
       "1              70.73  \n",
       "2               0.95  \n",
       "3              78.04  \n",
       "4              77.82  \n",
       "5              25.15  \n",
       "6              88.56  \n",
       "7              44.25  \n",
       "8              59.54  \n",
       "9              95.63  \n",
       "10             96.89  \n",
       "11             19.26  \n",
       "12             39.65  \n",
       "13              8.93  \n",
       "14             24.18  \n",
       "15             71.78  \n",
       "16             84.44  \n",
       "17             58.68  \n",
       "18             70.15  \n",
       "19             58.39  \n",
       "20             30.33  \n",
       "21             90.93  \n",
       "22             33.62  \n",
       "23             97.97  \n",
       "24             85.31  \n",
       "25              6.25  \n",
       "26             17.75  \n",
       "27             39.40  \n",
       "28             70.75  \n",
       "29             82.16  \n",
       "...              ...  \n",
       "9970           17.76  \n",
       "9971           65.06  \n",
       "9972           18.10  \n",
       "9973           83.30  \n",
       "9974           66.45  \n",
       "9975            3.77  \n",
       "9976           37.73  \n",
       "9977           94.93  \n",
       "9978           14.49  \n",
       "9979           14.55  \n",
       "9980           16.05  \n",
       "9981           63.61  \n",
       "9982           56.25  \n",
       "9983           47.70  \n",
       "9984           33.57  \n",
       "9985           46.33  \n",
       "9986           22.02  \n",
       "9987           60.83  \n",
       "9988           89.76  \n",
       "9989           17.18  \n",
       "9990           18.35  \n",
       "9991           25.93  \n",
       "9992           67.96  \n",
       "9993           65.61  \n",
       "9994           31.85  \n",
       "9995           82.21  \n",
       "9996           25.63  \n",
       "9997           83.98  \n",
       "9998           38.84  \n",
       "9999           67.59  \n",
       "\n",
       "[10000 rows x 14 columns]>"
      ]
     },
     "execution_count": 13,
     "metadata": {},
     "output_type": "execute_result"
    }
   ],
   "source": [
    "ecom.info"
   ]
  },
  {
   "cell_type": "code",
   "execution_count": 15,
   "metadata": {},
   "outputs": [
    {
     "data": {
      "text/plain": [
       "50.34730200000025"
      ]
     },
     "execution_count": 15,
     "metadata": {},
     "output_type": "execute_result"
    }
   ],
   "source": [
    "# Return avg purchase price\n",
    "ecom[\"Purchase Price\"].mean()"
   ]
  },
  {
   "cell_type": "code",
   "execution_count": 17,
   "metadata": {},
   "outputs": [
    {
     "data": {
      "text/plain": [
       "99.989999999999995"
      ]
     },
     "execution_count": 17,
     "metadata": {},
     "output_type": "execute_result"
    }
   ],
   "source": [
    "# Max purchase price\n",
    "ecom[\"Purchase Price\"].max()"
   ]
  },
  {
   "cell_type": "code",
   "execution_count": 18,
   "metadata": {},
   "outputs": [
    {
     "data": {
      "text/plain": [
       "0.0"
      ]
     },
     "execution_count": 18,
     "metadata": {},
     "output_type": "execute_result"
    }
   ],
   "source": [
    "ecom[\"Purchase Price\"].min()"
   ]
  },
  {
   "cell_type": "code",
   "execution_count": 25,
   "metadata": {},
   "outputs": [
    {
     "data": {
      "text/plain": [
       "1098"
      ]
     },
     "execution_count": 25,
     "metadata": {},
     "output_type": "execute_result"
    }
   ],
   "source": [
    "# How many people have English (En) as language of choice on the site?\n",
    "ecom.head(3)\n",
    "ecom[\"Language\"] == \"en\"\n",
    "ecom[ecom[\"Language\"] == \"en\"].count()\n",
    "ecom[ecom[\"Language\"] == \"en\"][\"Language\"].count()"
   ]
  },
  {
   "cell_type": "code",
   "execution_count": 27,
   "metadata": {},
   "outputs": [
    {
     "data": {
      "text/plain": [
       "30"
      ]
     },
     "execution_count": 27,
     "metadata": {},
     "output_type": "execute_result"
    }
   ],
   "source": [
    "# How many people have the job title \"Lawyer\"\n",
    "ecom[ecom[\"Job\"] == \"Lawyer\"][\"Job\"].count()"
   ]
  },
  {
   "cell_type": "code",
   "execution_count": 29,
   "metadata": {},
   "outputs": [
    {
     "data": {
      "text/plain": [
       "30"
      ]
     },
     "execution_count": 29,
     "metadata": {},
     "output_type": "execute_result"
    }
   ],
   "source": [
    "# Alternate way of getting the value for \"Lawyer\"\n",
    "len(ecom[ecom[\"Job\"] == \"Lawyer\"].index)"
   ]
  },
  {
   "cell_type": "code",
   "execution_count": 33,
   "metadata": {},
   "outputs": [
    {
     "data": {
      "text/plain": [
       "'20'"
      ]
     },
     "execution_count": 33,
     "metadata": {},
     "output_type": "execute_result"
    }
   ],
   "source": [
    "# How many people have an exp date in 2025?\n",
    "ecom[\"CC Exp Date\"]\n",
    "ecom[\"CC Exp Date\"].iloc[0]\n",
    "\n",
    "# Grab elements of string from 3 and beyond (Really, the last two values -- just the year)\n",
    "ecom[\"CC Exp Date\"].iloc[0][3:]\n"
   ]
  },
  {
   "cell_type": "code",
   "execution_count": 37,
   "metadata": {},
   "outputs": [
    {
     "data": {
      "text/plain": [
       "0       False\n",
       "1       False\n",
       "2       False\n",
       "3       False\n",
       "4        True\n",
       "5        True\n",
       "6       False\n",
       "7        True\n",
       "8       False\n",
       "9       False\n",
       "10      False\n",
       "11      False\n",
       "12      False\n",
       "13       True\n",
       "14      False\n",
       "15       True\n",
       "16      False\n",
       "17      False\n",
       "18      False\n",
       "19      False\n",
       "20      False\n",
       "21       True\n",
       "22      False\n",
       "23      False\n",
       "24      False\n",
       "25      False\n",
       "26      False\n",
       "27      False\n",
       "28      False\n",
       "29      False\n",
       "        ...  \n",
       "9970    False\n",
       "9971    False\n",
       "9972    False\n",
       "9973    False\n",
       "9974    False\n",
       "9975    False\n",
       "9976    False\n",
       "9977    False\n",
       "9978    False\n",
       "9979    False\n",
       "9980    False\n",
       "9981    False\n",
       "9982    False\n",
       "9983    False\n",
       "9984    False\n",
       "9985    False\n",
       "9986    False\n",
       "9987    False\n",
       "9988    False\n",
       "9989    False\n",
       "9990    False\n",
       "9991    False\n",
       "9992    False\n",
       "9993     True\n",
       "9994     True\n",
       "9995    False\n",
       "9996     True\n",
       "9997    False\n",
       "9998    False\n",
       "9999    False\n",
       "Name: CC Exp Date, dtype: bool"
      ]
     },
     "execution_count": 37,
     "metadata": {},
     "output_type": "execute_result"
    }
   ],
   "source": [
    "# Take the func we wrote & apply it as a lambda\n",
    "ecom[\"CC Exp Date\"].apply(lambda exp: exp[3:] == '25')"
   ]
  },
  {
   "cell_type": "code",
   "execution_count": 41,
   "metadata": {},
   "outputs": [
    {
     "data": {
      "text/plain": [
       "Address             1033\n",
       "Lot                 1033\n",
       "AM or PM            1033\n",
       "Browser Info        1033\n",
       "Company             1033\n",
       "Credit Card         1033\n",
       "CC Exp Date         1033\n",
       "CC Security Code    1033\n",
       "CC Provider         1033\n",
       "Email               1033\n",
       "Job                 1033\n",
       "IP Address          1033\n",
       "Language            1033\n",
       "Purchase Price      1033\n",
       "dtype: int64"
      ]
     },
     "execution_count": 41,
     "metadata": {},
     "output_type": "execute_result"
    }
   ],
   "source": [
    "# Gives us the rows back\n",
    "ecom[ecom[\"CC Exp Date\"].apply(lambda exp: exp[3:] == '25')].count()"
   ]
  },
  {
   "cell_type": "code",
   "execution_count": 48,
   "metadata": {},
   "outputs": [
    {
     "data": {
      "text/plain": [
       "'pdunlap@yahoo.com'"
      ]
     },
     "execution_count": 48,
     "metadata": {},
     "output_type": "execute_result"
    }
   ],
   "source": [
    "# What are the top 5 most popular e-mail providers & hosts?\n",
    "ecom[\"Email\"]\n",
    "example_email = ecom[\"Email\"].iloc[0]\n",
    "example_email"
   ]
  },
  {
   "cell_type": "code",
   "execution_count": 50,
   "metadata": {},
   "outputs": [
    {
     "data": {
      "text/plain": [
       "['pdunlap', 'yahoo.com']"
      ]
     },
     "execution_count": 50,
     "metadata": {},
     "output_type": "execute_result"
    }
   ],
   "source": [
    "# Get rid of the name -- only need the host / provider \n",
    "example_email.split(\"@\")"
   ]
  },
  {
   "cell_type": "code",
   "execution_count": 53,
   "metadata": {},
   "outputs": [
    {
     "data": {
      "text/plain": [
       "0                  yahoo.com\n",
       "1                   reed.com\n",
       "2       morales-harrison.com\n",
       "3        olson-robinson.info\n",
       "4                  gmail.com\n",
       "5                  gmail.com\n",
       "6                  yahoo.com\n",
       "7                 parks.info\n",
       "8              rasmussen.com\n",
       "9            hunt-huerta.com\n",
       "10               hotmail.com\n",
       "11               coleman.com\n",
       "12               hotmail.com\n",
       "13                 yahoo.com\n",
       "14                 yahoo.com\n",
       "15                 yahoo.com\n",
       "16                wilson.com\n",
       "17                  hall.com\n",
       "18                 yahoo.com\n",
       "19                 gmail.com\n",
       "20                smith.info\n",
       "21               hotmail.com\n",
       "22                 gmail.com\n",
       "23       gardner-meadows.com\n",
       "24                 yahoo.com\n",
       "25                mooney.com\n",
       "26                 gmail.com\n",
       "27               hotmail.com\n",
       "28                 yahoo.com\n",
       "29                 yahoo.com\n",
       "                ...         \n",
       "9970             hotmail.com\n",
       "9971              warner.org\n",
       "9972             hotmail.com\n",
       "9973               yahoo.com\n",
       "9974               yahoo.com\n",
       "9975               roman.net\n",
       "9976               gmail.com\n",
       "9977               yahoo.com\n",
       "9978             hotmail.com\n",
       "9979               yahoo.com\n",
       "9980       kirby-stewart.org\n",
       "9981            richards.com\n",
       "9982               gmail.com\n",
       "9983     rodriguez-welch.com\n",
       "9984        vasquez-luna.com\n",
       "9985               white.com\n",
       "9986            schwartz.com\n",
       "9987               novak.biz\n",
       "9988                pace.com\n",
       "9989             hotmail.com\n",
       "9990             sherman.biz\n",
       "9991            wise-liu.com\n",
       "9992              wright.net\n",
       "9993               lopez.biz\n",
       "9994               gmail.com\n",
       "9995         wade-garner.com\n",
       "9996             hotmail.com\n",
       "9997               gmail.com\n",
       "9998                reid.net\n",
       "9999              vaughn.com\n",
       "Name: Email, dtype: object"
      ]
     },
     "execution_count": 53,
     "metadata": {},
     "output_type": "execute_result"
    }
   ],
   "source": [
    "ecom[\"Email\"].apply(lambda email: email.split(\"@\")[1]) "
   ]
  },
  {
   "cell_type": "code",
   "execution_count": 57,
   "metadata": {},
   "outputs": [
    {
     "data": {
      "text/plain": [
       "hotmail.com           1638\n",
       "yahoo.com             1616\n",
       "gmail.com             1605\n",
       "smith.com               42\n",
       "williams.com            37\n",
       "brown.com               29\n",
       "johnson.com             29\n",
       "davis.com               25\n",
       "jones.com               25\n",
       "martinez.com            19\n",
       "martin.com              15\n",
       "white.com               15\n",
       "rodriguez.com           14\n",
       "jackson.com             14\n",
       "miller.com              14\n",
       "thompson.com            14\n",
       "garcia.com              14\n",
       "thomas.com              14\n",
       "hill.com                13\n",
       "taylor.com              12\n",
       "harris.com              12\n",
       "moore.com               11\n",
       "walker.com              11\n",
       "wilson.com              11\n",
       "king.com                10\n",
       "nelson.com              10\n",
       "lee.com                 10\n",
       "long.com                10\n",
       "hernandez.com           10\n",
       "anderson.com            10\n",
       "                      ... \n",
       "reyes-jordan.net         1\n",
       "townsend-reed.info       1\n",
       "carr-young.com           1\n",
       "browning-yu.com          1\n",
       "friedman.biz             1\n",
       "banks.net                1\n",
       "nielsen.com              1\n",
       "young-neal.com           1\n",
       "smith-robinson.com       1\n",
       "herrera.biz              1\n",
       "scott-kaufman.com        1\n",
       "schwartz.com             1\n",
       "olson.biz                1\n",
       "zavala.com               1\n",
       "smith-ford.biz           1\n",
       "holland.com              1\n",
       "zuniga-jackson.com       1\n",
       "floyd.info               1\n",
       "martin-white.com         1\n",
       "hicks.info               1\n",
       "duncan-garcia.com        1\n",
       "vaughan.com              1\n",
       "daniels.com              1\n",
       "faulkner.org             1\n",
       "ball.com                 1\n",
       "jones-white.biz          1\n",
       "humphrey.biz             1\n",
       "taylor-gregory.com       1\n",
       "potter-escobar.com       1\n",
       "nelson.org               1\n",
       "Name: Email, dtype: int64"
      ]
     },
     "execution_count": 57,
     "metadata": {},
     "output_type": "execute_result"
    }
   ],
   "source": [
    "ecom[\"Email\"].apply(lambda email: email.split(\"@\")[1]).value_counts()"
   ]
  },
  {
   "cell_type": "code",
   "execution_count": 59,
   "metadata": {},
   "outputs": [
    {
     "data": {
      "text/plain": [
       "hotmail.com     1638\n",
       "yahoo.com       1616\n",
       "gmail.com       1605\n",
       "smith.com         42\n",
       "williams.com      37\n",
       "Name: Email, dtype: int64"
      ]
     },
     "execution_count": 59,
     "metadata": {},
     "output_type": "execute_result"
    }
   ],
   "source": [
    "# Top 5 e-mail providers \n",
    "ecom[\"Email\"].apply(lambda email: email.split(\"@\")[1]).value_counts().head(5)"
   ]
  },
  {
   "cell_type": "code",
   "execution_count": null,
   "metadata": {
    "collapsed": true
   },
   "outputs": [],
   "source": []
  }
 ],
 "metadata": {
  "kernelspec": {
   "display_name": "Python 3.6",
   "language": "python",
   "name": "python36"
  },
  "language_info": {
   "codemirror_mode": {
    "name": "ipython",
    "version": 3
   },
   "file_extension": ".py",
   "mimetype": "text/x-python",
   "name": "python",
   "nbconvert_exporter": "python",
   "pygments_lexer": "ipython3",
   "version": "3.6.0"
  }
 },
 "nbformat": 4,
 "nbformat_minor": 2
}
