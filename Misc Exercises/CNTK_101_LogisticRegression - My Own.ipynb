{
  "cells": [
    {
      "metadata": {
        "trusted": false
      },
      "cell_type": "code",
      "source": "from IPython.display import Image\nImage(url=\"https://www.cntk.ai/jup/cancer_data_plot.jpg\", width=400, height=400 )",
      "execution_count": 1,
      "outputs": [
        {
          "data": {
            "text/html": "<img src=\"https://www.cntk.ai/jup/cancer_data_plot.jpg\" width=\"400\" height=\"400\"/>",
            "text/plain": "<IPython.core.display.Image object>"
          },
          "execution_count": 1,
          "metadata": {},
          "output_type": "execute_result"
        }
      ]
    },
    {
      "metadata": {},
      "cell_type": "markdown",
      "source": "## GOAL\n\nLearn a classifier that can automatically label any patient into either the benign or malignant categories given two features: age & tumor size.\n\nWe need to create a **linear classifier**, which is a fundamental building-block in deep networks."
    },
    {
      "metadata": {
        "trusted": false
      },
      "cell_type": "code",
      "source": "Image(url=\"https://www.cntk.ai/jup/cancer_classify_plot.jpg\", width=400, height=400)",
      "execution_count": 2,
      "outputs": [
        {
          "data": {
            "text/html": "<img src=\"https://www.cntk.ai/jup/cancer_classify_plot.jpg\" width=\"400\" height=\"400\"/>",
            "text/plain": "<IPython.core.display.Image object>"
          },
          "execution_count": 2,
          "metadata": {},
          "output_type": "execute_result"
        }
      ]
    },
    {
      "metadata": {},
      "cell_type": "markdown",
      "source": "We'll want to make a classifier which matches the green line and separates the blue dots from the red.\n\n## Five Stages\n\n1. **Data Reading:** Generate simulated data sets. Each sample will have two features: *age* & *tumor size*\n2. **Data Preprocessing:** Individual features may need to be scaled, between 0--1\n3. **Model Creation:** Linear model\n4. **Learning the model:** *Training*. Ex: linear regression, Stochastic Gradient Descent. \n5. **Evaluation:** *Testing*, where you evaluate the model on data sets with known labels which were not used with training. "
    },
    {
      "metadata": {
        "collapsed": true,
        "trusted": false
      },
      "cell_type": "code",
      "source": "from __future__ import print_function\nimport numpy as np\nimport sys\nimport os\n\nimport cntk as C\n\n# Check to see if running on a GPU\nif 'TEST_DEVICE' in os.environ:\n    if os.environ['TEST_DEVICE'] == 'cpu':\n        C.device.try_set_default_device(C.device.cpu())\n    else:\n        C.device.try_set_default_device(C.device.gpu(0))\n        \n# Check for CNTK version\nif not C.__version__== \"2.0\":\n    raise Exception(\"this notebook was designed to work with 2.0. Current Version: \" + C.__version__) ",
      "execution_count": 3,
      "outputs": []
    },
    {
      "metadata": {
        "collapsed": true,
        "trusted": false
      },
      "cell_type": "code",
      "source": "# Define the network\ninput_dim          = 2\nnum_output_classes = 2 ",
      "execution_count": 4,
      "outputs": []
    },
    {
      "metadata": {
        "collapsed": true,
        "trusted": false
      },
      "cell_type": "code",
      "source": "# Generate data from numpy. \n# Makes the random numbers predictable. Same ran numbers appear with each seed.\n# EX: array([ 0.55,  0.72,  0.6 ,  0.54])\nnp.random.seed(0)\n\n# Helper func to generate a random data sample\ndef generate_random_data_sample(sample_size, feature_dim, num_classes):\n    # Create synthetic data from NumPy\n    Y = np.random.randint(size=(sample_size, 1), low=0, high=num_classes)\n    \n    # Make sure that data is seperable.\n    # Default type is double. Corce to float.\n    X = (np.random.randn(sample_size, feature_dim)+3) * (Y+1)\n    X = X.astype(np.float32)\n    print(X)\n    \n    # convert class 0 into the vector \"1 0 0\", \n    # class 1 into the vector \"0 1 0\", ...\n    class_ind = [Y==class_number for class_number in range(num_classes)]\n    \n    # Stack arrays in sequence horizontally (column wise).\n    Y         = np.asarray(np.hstack(class_ind), dtype=np.float32)\n    print(Y)\n    \n    return X,Y",
      "execution_count": 5,
      "outputs": []
    },
    {
      "metadata": {
        "trusted": false
      },
      "cell_type": "code",
      "source": "# Creating input vars for features and labal data\nmysamplesize     = 32\nfeatures, labels = generate_random_data_sample(mysamplesize, input_dim, num_output_classes) ",
      "execution_count": 6,
      "outputs": [
        {
          "name": "stdout",
          "output_type": "stream",
          "text": "[[  3.44386315   3.33367443]\n [  8.98815823   5.58968353]\n [  6.62613535   4.29180861]\n [  0.44701019   3.65361857]\n [  7.7288723    4.51566982]\n [ 10.53950882   3.09126854]\n [  6.09151697   5.62563229]\n [  9.06555843   8.93871784]\n [  6.30989504   6.75632524]\n [  4.22442865   2.03840709]\n [  5.30417585   6.31269789]\n [  4.23029089   4.2023797 ]\n [  2.61267328   2.69769716]\n [  3.90289402   3.15996408]\n [  1.29372978   4.95077562]\n [  2.49034786   2.56192565]\n [  1.74720466   3.77749038]\n [  1.3861022    2.78725982]\n [  2.10453343   3.38690257]\n [  4.97838974   3.63873553]\n [  2.97181773   3.42833185]\n [  6.13303423   6.60494375]\n [  4.73135567   5.27451754]\n [  2.32753944   2.6404469 ]\n [  2.18685365   1.2737174 ]\n [  6.3548522    5.19643831]\n [  2.73960328   6.92556429]\n [  4.18540335   6.1038909 ]\n [  7.4581809    6.25796604]\n [  4.13940048   1.76517415]\n [  6.80468321   4.63037968]\n [  2.12920284   2.42115045]]\n[[ 1.  0.]\n [ 0.  1.]\n [ 0.  1.]\n [ 1.  0.]\n [ 0.  1.]\n [ 0.  1.]\n [ 0.  1.]\n [ 0.  1.]\n [ 0.  1.]\n [ 0.  1.]\n [ 0.  1.]\n [ 1.  0.]\n [ 1.  0.]\n [ 0.  1.]\n [ 1.  0.]\n [ 1.  0.]\n [ 1.  0.]\n [ 1.  0.]\n [ 1.  0.]\n [ 0.  1.]\n [ 1.  0.]\n [ 0.  1.]\n [ 0.  1.]\n [ 1.  0.]\n [ 1.  0.]\n [ 0.  1.]\n [ 0.  1.]\n [ 0.  1.]\n [ 0.  1.]\n [ 1.  0.]\n [ 0.  1.]\n [ 1.  0.]]\n"
        }
      ]
    },
    {
      "metadata": {
        "collapsed": true,
        "trusted": false
      },
      "cell_type": "code",
      "source": "# Plotting the data\nimport matplotlib.pyplot as plt\n%matplotlib inline",
      "execution_count": 7,
      "outputs": []
    },
    {
      "metadata": {
        "collapsed": true,
        "trusted": false
      },
      "cell_type": "code",
      "source": "# 0: red | maglignant\n# 1: blue | benign\ncolors = ['r' if label == 0 else 'b' for label in labels[:,0]]",
      "execution_count": 11,
      "outputs": []
    },
    {
      "metadata": {
        "trusted": false
      },
      "cell_type": "code",
      "source": "plt.scatter(features[:,0], features[:,1], c=colors)\nplt.xlabel(\"Age (scaled)\")\nplt.ylabel(\"Tumor size(in cm)\")\nplt.show()",
      "execution_count": 12,
      "outputs": [
        {
          "data": {
            "image/png": "[encoded data removed]",
            "text/plain": "<matplotlib.figure.Figure at 0x7fdc926c62b0>"
          },
          "metadata": {},
          "output_type": "display_data"
        }
      ]
    },
    {
      "metadata": {},
      "cell_type": "markdown",
      "source": "## Model Creation\nTake a vector of numbers decsribiing properties of what we are classifying (features), and emits evidence (activation)."
    },
    {
      "metadata": {
        "collapsed": true,
        "trusted": false
      },
      "cell_type": "code",
      "source": "feature = C.input_variable(input_dim, np.float32)",
      "execution_count": 13,
      "outputs": []
    },
    {
      "metadata": {
        "collapsed": true,
        "trusted": false
      },
      "cell_type": "code",
      "source": "# Dict to store model params\nmydict = {}\n\ndef linear_layer(input_var, output_dim):\n    \n    input_dim    = input_var.shape[0]\n    weight_param = C.parameter(shape=(input_dim, output_dim))\n    bias_param   = C.parameter(shape=(output_dim))\n    \n    mydict['w'], mydict['b'] = weight_param, bias_param\n    \n    return C.times(input_var, weight_param) + bias_param",
      "execution_count": 14,
      "outputs": []
    },
    {
      "metadata": {
        "collapsed": true,
        "trusted": false
      },
      "cell_type": "code",
      "source": "output_dim = num_output_classes\nz          = linear_layer(feature, output_dim)",
      "execution_count": 15,
      "outputs": []
    },
    {
      "metadata": {
        "trusted": false
      },
      "cell_type": "code",
      "source": "# Convert computed evidence (z) into a set of predicted probabilities (p) using softmax.\n# Cost/loss function: minimize the diff b/t our putput and the ground-truth labels.\n# Cross Entropy     : Popular loss function\nlabel = C.input_variable(num_output_classes, np.float32)\nloss  = C.cross_entropy_with_softmax(z, label)",
      "execution_count": 18,
      "outputs": []
    },
    {
      "metadata": {
        "collapsed": true,
        "trusted": false
      },
      "cell_type": "code",
      "source": "# 0 if our model was correct, otherwise 1\neval_error = C.classification_error(z, label)",
      "execution_count": 19,
      "outputs": []
    },
    {
      "metadata": {
        "trusted": false
      },
      "cell_type": "code",
      "source": "# SGD for optimization technique\n# Can calc the loss or error b/t predictived val and ground-truth\n# Instantiate the trainer object to drive the model training\nlearning_rate = 0.5\nlr_schedule   = C.learning_rate_schedule(learning_rate, C.UnitType.minibatch) \nlearner       = C.sgd(z.parameters, lr_schedule)\ntrainer       = C.Trainer(z, (loss, eval_error), [learner])",
      "execution_count": 21,
      "outputs": []
    },
    {
      "metadata": {
        "trusted": false
      },
      "cell_type": "code",
      "source": "def moving_average(a, w=10):\n    if len(a) < w: \n        return a[:]    \n    return [val if idx < w else sum(a[(idx-w):idx])/w for idx, val in enumerate(a)]\n\n\n# Define a utility that prints the training progress\ndef print_training_progress(trainer, mb, frequency, verbose=1):\n  Ctraining_loss, eval_error = \"NA\", \"NA\"\n\n  if mb % frequency == 0:\n    training_loss = trainer.previous_minibatch_loss_average\n    eval_error = trainer.previous_minibatch_evaluation_average\n    if verbose: \n        print (\"Minibatch: {0}, Loss: {1:.4f}, Error: {2:.2f}\".format(mb, training_loss, eval_error))\n\n    return mb, training_loss, eval_error",
      "execution_count": 25,
      "outputs": []
    },
    {
      "metadata": {
        "collapsed": true,
        "trusted": false
      },
      "cell_type": "code",
      "source": "# Training\nminibatch_size           = 25\nnum_samples_to_train     = 20000\nnum_minibatches_to_train = int(num_samples_to_train / minibatch_size)",
      "execution_count": 26,
      "outputs": []
    },
    {
      "metadata": {
        "trusted": false
      },
      "cell_type": "code",
      "source": "# High-performance container datatypes\nfrom collections import defaultdict\n\n# Run the trainer and perform model training\ntraining_progress_output_freq = 50\nplotdata                      = defaultdict(list)\n\nfor i in range(0, num_minibatches_to_train):\n    features, labels = generate_random_data_sample(minibatch_size, input_dim, num_output_classes)\n    \n    # Assign the minibatch data to the input variables and train the model on the minibatch\n    trainer.train_minibatch({feature : features, label : labels})\n    batchsize, loss, error = print_training_progress(trainer, i, \n                                                     training_progress_output_freq, verbose=1)\n    \n    if not (loss == \"NA\" or error ==\"NA\"):\n        plotdata[\"batchsize\"].append(batchsize)\n        plotdata[\"loss\"     ].append(loss)\n        plotdata[\"error\"    ].append(error)",
      "execution_count": 30,
      "outputs": [
        {
          "name": "stdout",
          "output_type": "stream",
          "text": "[[  3.05222511e+00   1.65842080e+00]\n [  4.38294220e+00   3.38691282e+00]\n [  1.66754687e+00   3.50381756e+00]\n [  8.06583118e+00   5.75555277e+00]\n [  9.66527557e+00   5.86853361e+00]\n [  9.72755337e+00   5.75261831e+00]\n [  4.22039890e+00   2.99341273e+00]\n [  3.59374523e+00   2.33602071e+00]\n [  4.78515434e+00   2.87125945e+00]\n [  1.26625800e+00   2.38443565e+00]\n [  2.04536605e+00   2.75119495e+00]\n [  5.88982487e+00   6.56413984e+00]\n [  1.10568190e+00   3.83831072e+00]\n [  2.58368778e+00   4.35692787e+00]\n [  1.80234051e+00   1.32295430e+00]\n [  8.02246666e+00   4.54374409e+00]\n [  2.78276467e+00   3.53001666e+00]\n [  2.20809364e+00   6.64937067e+00]\n [  2.67232513e+00   3.50306749e+00]\n [  8.01109886e+00   7.14937162e+00]\n [  4.55668020e+00   2.58108163e+00]\n [  5.18056631e+00   8.23274899e+00]\n [  5.49804163e+00   5.16954374e+00]\n [  2.36091375e+00   5.49776745e+00]\n [ -5.12816198e-03   2.12600279e+00]]\n[[ 1.  0.]\n [ 1.  0.]\n [ 1.  0.]\n [ 0.  1.]\n [ 0.  1.]\n [ 0.  1.]\n [ 1.  0.]\n [ 1.  0.]\n [ 0.  1.]\n [ 1.  0.]\n [ 1.  0.]\n [ 0.  1.]\n [ 1.  0.]\n [ 1.  0.]\n [ 1.  0.]\n [ 0.  1.]\n [ 1.  0.]\n [ 0.  1.]\n [ 1.  0.]\n [ 0.  1.]\n [ 1.  0.]\n [ 0.  1.]\n [ 0.  1.]\n [ 1.  0.]\n [ 1.  0.]]\nMinibatch: 0, Loss: 3.6025, Error: 0.60\n[[  2.83412313   7.22075891]\n [  3.62228155   4.98636723]\n [  4.80737209   5.89486551]\n [  1.06372023   3.18877864]\n [  3.52389097   3.08842206]\n [  2.68911386   3.09740019]\n [  3.39904642   0.22740725]\n [  9.91182423   6.78018665]\n [  4.6951828    5.2180934 ]\n [  6.9874835    5.76779222]\n [  1.93863106  10.1289854 ]\n [  2.88945937   4.0201726 ]\n [  4.61590052   9.07275391]\n [  3.28634357   3.6088438 ]\n [  1.9547466    4.2111454 ]\n [  7.37963629   8.60369205]\n [  4.74382496   5.03794575]\n [ 10.60783386   3.8799684 ]\n [  2.86405039   4.13689137]\n [  6.19544983   7.16590738]\n [  5.20110178   6.74011183]\n [  3.3869462    9.31626129]\n [  2.88183594   2.31982183]\n [  7.33276606   5.07856035]\n [  3.33148313   3.30656505]]\n[[ 0.  1.]\n [ 0.  1.]\n [ 0.  1.]\n [ 1.  0.]\n [ 1.  0.]\n [ 1.  0.]\n [ 1.  0.]\n [ 0.  1.]\n [ 0.  1.]\n [ 0.  1.]\n [ 0.  1.]\n [ 1.  0.]\n [ 0.  1.]\n [ 1.  0.]\n [ 1.  0.]\n [ 0.  1.]\n [ 0.  1.]\n [ 0.  1.]\n [ 1.  0.]\n [ 0.  1.]\n [ 0.  1.]\n [ 0.  1.]\n [ 1.  0.]\n [ 0.  1.]\n [ 0.  1.]]\n"
        },
        {
          "ename": "TypeError",
          "evalue": "'NoneType' object is not iterable",
          "output_type": "error",
          "traceback": [
            "\u001b[0;31m---------------------------------------------------------------------------\u001b[0m",
            "\u001b[0;31mTypeError\u001b[0m                                 Traceback (most recent call last)",
            "\u001b[0;32m<ipython-input-30-bd3dc8c73d98>\u001b[0m in \u001b[0;36m<module>\u001b[0;34m()\u001b[0m\n\u001b[1;32m     12\u001b[0m     \u001b[0mtrainer\u001b[0m\u001b[0;34m.\u001b[0m\u001b[0mtrain_minibatch\u001b[0m\u001b[0;34m(\u001b[0m\u001b[0;34m{\u001b[0m\u001b[0mfeature\u001b[0m \u001b[0;34m:\u001b[0m \u001b[0mfeatures\u001b[0m\u001b[0;34m,\u001b[0m \u001b[0mlabel\u001b[0m \u001b[0;34m:\u001b[0m \u001b[0mlabels\u001b[0m\u001b[0;34m}\u001b[0m\u001b[0;34m)\u001b[0m\u001b[0;34m\u001b[0m\u001b[0m\n\u001b[1;32m     13\u001b[0m     batchsize, loss, error = print_training_progress(trainer, i, \n\u001b[0;32m---> 14\u001b[0;31m                                                      training_progress_output_freq, verbose=1)\n\u001b[0m\u001b[1;32m     15\u001b[0m \u001b[0;34m\u001b[0m\u001b[0m\n\u001b[1;32m     16\u001b[0m     \u001b[0;32mif\u001b[0m \u001b[0;32mnot\u001b[0m \u001b[0;34m(\u001b[0m\u001b[0mloss\u001b[0m \u001b[0;34m==\u001b[0m \u001b[0;34m\"NA\"\u001b[0m \u001b[0;32mor\u001b[0m \u001b[0merror\u001b[0m \u001b[0;34m==\u001b[0m\u001b[0;34m\"NA\"\u001b[0m\u001b[0;34m)\u001b[0m\u001b[0;34m:\u001b[0m\u001b[0;34m\u001b[0m\u001b[0m\n",
            "\u001b[0;31mTypeError\u001b[0m: 'NoneType' object is not iterable"
          ]
        }
      ]
    },
    {
      "metadata": {
        "trusted": false
      },
      "cell_type": "code",
      "source": "# Compute the moving avg loss to smooth noise in SGD\n",
      "execution_count": 31,
      "outputs": [
        {
          "ename": "TypeError",
          "evalue": "'collections.defaultdict' object is not callable",
          "output_type": "error",
          "traceback": [
            "\u001b[0;31m---------------------------------------------------------------------------\u001b[0m",
            "\u001b[0;31mTypeError\u001b[0m                                 Traceback (most recent call last)",
            "\u001b[0;32m<ipython-input-31-d9aea599cf4a>\u001b[0m in \u001b[0;36m<module>\u001b[0;34m()\u001b[0m\n\u001b[1;32m      1\u001b[0m \u001b[0;31m# Compute the moving avg loss to smooth noise in SGD\u001b[0m\u001b[0;34m\u001b[0m\u001b[0;34m\u001b[0m\u001b[0m\n\u001b[0;32m----> 2\u001b[0;31m \u001b[0mplotdata\u001b[0m\u001b[0;34m[\u001b[0m\u001b[0;34m\"avgloss\"\u001b[0m\u001b[0;34m]\u001b[0m \u001b[0;34m=\u001b[0m \u001b[0mmoving_average\u001b[0m\u001b[0;34m(\u001b[0m\u001b[0mplotdata\u001b[0m\u001b[0;34m(\u001b[0m\u001b[0;34m[\u001b[0m\u001b[0;34m\"\"\u001b[0m\u001b[0;34m]\u001b[0m\u001b[0;34m)\u001b[0m\u001b[0;34m)\u001b[0m\u001b[0;34m\u001b[0m\u001b[0m\n\u001b[0m",
            "\u001b[0;31mTypeError\u001b[0m: 'collections.defaultdict' object is not callable"
          ]
        }
      ]
    },
    {
      "metadata": {
        "collapsed": true,
        "trusted": false
      },
      "cell_type": "code",
      "source": "",
      "execution_count": null,
      "outputs": []
    }
  ],
  "metadata": {
    "kernelspec": {
      "name": "python36",
      "display_name": "Python 3.6",
      "language": "python"
    },
    "language_info": {
      "mimetype": "text/x-python",
      "nbconvert_exporter": "python",
      "name": "python",
      "pygments_lexer": "ipython3",
      "version": "3.6.6",
      "file_extension": ".py",
      "codemirror_mode": {
        "version": 3,
        "name": "ipython"
      }
    }
  },
  "nbformat": 4,
  "nbformat_minor": 2
}